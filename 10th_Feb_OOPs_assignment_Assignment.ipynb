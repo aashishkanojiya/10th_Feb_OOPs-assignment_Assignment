{
  "nbformat": 4,
  "nbformat_minor": 0,
  "metadata": {
    "colab": {
      "provenance": []
    },
    "kernelspec": {
      "name": "python3",
      "display_name": "Python 3"
    },
    "language_info": {
      "name": "python"
    }
  },
  "cells": [
    {
      "cell_type": "markdown",
      "source": [
        "Q1. Which function is used to open a file? What are the different modes of opening a file? Explain each mode\n",
        "of file opening."
      ],
      "metadata": {
        "id": "qsQ1fj0Jjail"
      }
    },
    {
      "cell_type": "markdown",
      "source": [
        "Answer:-\n",
        "\n",
        "1.In ‘r’ mode, the file opens in the read only mode. By default, if we don’t specify the mode argument, it will be treated as read or ‘r’ mode.\n",
        "\n"
      ],
      "metadata": {
        "id": "j3J2pWFIjaey"
      }
    },
    {
      "cell_type": "code",
      "source": [
        "# r mode example\n",
        "# Reading a file\n",
        "file = open('/content/my name.txt', 'r')\n",
        "\n",
        "#read()\n",
        "text = file.read()\n",
        "\n",
        "print(text)\n",
        "file.close()"
      ],
      "metadata": {
        "colab": {
          "base_uri": "https://localhost:8080/"
        },
        "id": "_hxxlpcwkIag",
        "outputId": "9a96e6e5-8402-4dd5-8fca-e1e8d913363b"
      },
      "execution_count": 17,
      "outputs": [
        {
          "output_type": "stream",
          "name": "stdout",
          "text": [
            "this is my example\n",
            "\n"
          ]
        }
      ]
    },
    {
      "cell_type": "markdown",
      "source": [
        "2.In the ‘w’ mode, the file opens in write mode. It removes existing content, if present, in the file. If the specified file doesn’t exist, it creates one with the specified name."
      ],
      "metadata": {
        "id": "F2pRR6BAluxo"
      }
    },
    {
      "cell_type": "code",
      "source": [
        "# Writing a file\n",
        "file = open('/content/my name.txt', 'w')\n",
        "line = 'This file is modified with write mode\\n'\n",
        "\n",
        "#write()\n",
        "file.write(line)\n",
        "file.close()"
      ],
      "metadata": {
        "id": "O2eZw6rbloz8"
      },
      "execution_count": 18,
      "outputs": []
    },
    {
      "cell_type": "markdown",
      "source": [
        "3.In the ‘a’ mode, the file opens in append mode. It adds content to an existing file (or append at the end of the file). If the specified file doesn’t exist, it creates one with the specified name."
      ],
      "metadata": {
        "id": "bQIuScBcmA8j"
      }
    },
    {
      "cell_type": "code",
      "source": [
        "# Appending a file\n",
        "file = open('/content/my name.txt', 'a')\n",
        "lines = 'This is text written in append mode\\n'\n",
        "\n",
        "# Appending lines\n",
        "file.write(lines)\n",
        "file.close()"
      ],
      "metadata": {
        "id": "bqjALEESl1jA"
      },
      "execution_count": 19,
      "outputs": []
    },
    {
      "cell_type": "markdown",
      "source": [
        "4.In the ‘r+’ mode, the file opens in the read & write mode. It does not remove existing content, if present, in the file and does not create a file if not present in the directory."
      ],
      "metadata": {
        "id": "VKyeOZtsmQIA"
      }
    },
    {
      "cell_type": "code",
      "source": [
        "# Reading and Writing a file with r+ mode\n",
        "file = open('/content/my name.txt', 'r+')\n",
        "lines = file.read()\n",
        "print(lines)\n",
        "file.write(lines)\n",
        "file.close()"
      ],
      "metadata": {
        "colab": {
          "base_uri": "https://localhost:8080/"
        },
        "id": "a2kaRMaZmavW",
        "outputId": "95f6354c-ca68-4843-a8a8-383c5c1f74a1"
      },
      "execution_count": 22,
      "outputs": [
        {
          "output_type": "stream",
          "name": "stdout",
          "text": [
            "This file is modified with write mode\n",
            "This is text written in append mode\n",
            "\n"
          ]
        }
      ]
    },
    {
      "cell_type": "markdown",
      "source": [
        "5.In the ‘w+’ mode, open the file in the read & write mode & remove existing content. If the file doesn’t exist, it creates a new one. It does not remove existing content & if a file doesn’t exist, it creates a new one"
      ],
      "metadata": {
        "id": "mNfptmB_mnMH"
      }
    },
    {
      "cell_type": "code",
      "source": [
        "# Writing and Reading a file\n",
        "file = open('/content/my name.txt', 'w+')\n",
        "lines = file.read()\n",
        "file.write('This is w+ mode\\n')\n",
        "file.close()"
      ],
      "metadata": {
        "id": "vTpRNFY_masw"
      },
      "execution_count": 23,
      "outputs": []
    },
    {
      "cell_type": "markdown",
      "source": [
        "6.a+: Opens a file for both appending and reading\n"
      ],
      "metadata": {
        "id": "-0PHY9L_m5EB"
      }
    },
    {
      "cell_type": "code",
      "source": [
        "# Appending and reading a file\n",
        "file = open('/content/my name.txt', 'a+')\n",
        "lines = file.read()\n",
        "file.write('This is a+ mode\\n')\n",
        "file.close()\n"
      ],
      "metadata": {
        "id": "lHkvozYnmwlw"
      },
      "execution_count": 24,
      "outputs": []
    },
    {
      "cell_type": "markdown",
      "source": [
        "Q2. Why close() function is used? Why is it important to close a file?"
      ],
      "metadata": {
        "id": "Nd-LlEosoboC"
      }
    },
    {
      "cell_type": "markdown",
      "source": [
        "Answer:-\n",
        "\n",
        "The close() function is used to close an open file. When a file is opened in Python using the open function, the operating system reserves some resources to handle the file. This can include memory, disk space, file handles, etc. When you are done with a file and no longer need to read from or write to it, it is important to close it so that these resources can be released and made available for other applications.\n",
        "\n",
        "In addition to freeing up resources, closing a file also ensures that any changes you made to the file are saved and written to disk. This makes it a good practice to close a file after you have finished using it.\n",
        "\n",
        "If you forget to close a file, the operating system will eventually release the resources that were reserved for it when the Python process ends. However, it's still a good idea to close files explicitly, as it makes the intent of your code more clear and reduces the chance of resource leaks or other unintended consequences.\n",
        "\n"
      ],
      "metadata": {
        "id": "qGM23DTgocOX"
      }
    },
    {
      "cell_type": "markdown",
      "source": [
        "Closing is done with .close() method\n",
        "\n"
      ],
      "metadata": {
        "id": "WSXI-jhSoy1B"
      }
    },
    {
      "cell_type": "code",
      "source": [
        "# Opening file in read mode\n",
        "file = open('/content/my name.txt', 'r')\n",
        "\n",
        "#reading file and printing results\n",
        "text = file.read()\n",
        "print(text)\n",
        "\n",
        "# Closing the file\n",
        "file.close()"
      ],
      "metadata": {
        "colab": {
          "base_uri": "https://localhost:8080/"
        },
        "id": "W3RflJadm_s4",
        "outputId": "73e19512-b5bc-44ad-dbcf-4566fd8e28b4"
      },
      "execution_count": 25,
      "outputs": [
        {
          "output_type": "stream",
          "name": "stdout",
          "text": [
            "This is w+ mode\n",
            "This is a+ mode\n",
            "\n"
          ]
        }
      ]
    },
    {
      "cell_type": "markdown",
      "source": [
        "Q3. Write a python program to create a text file. Write ‘I want to become a Data Scientist’ in that file. Then\n",
        "close the file. Open this file and read the content of the file."
      ],
      "metadata": {
        "id": "u1BDBOG6pKDv"
      }
    },
    {
      "cell_type": "markdown",
      "source": [
        "Answer:-"
      ],
      "metadata": {
        "id": "vL_NEOBPpK4f"
      }
    },
    {
      "cell_type": "code",
      "source": [
        "# create a text file\n",
        "file = open(\"textfile.txt\", \"w\")\n",
        "\n",
        "# write to the file\n",
        "file.write(\"I want to become a Data Scientist\")\n",
        "\n",
        "# close the file\n",
        "file.close()\n",
        "\n",
        "# open the file in read mode\n",
        "file = open(\"textfile.txt\", \"r\")\n",
        "\n",
        "# read the contents of the file\n",
        "contents = file.read()\n",
        "\n",
        "# print the contents of the file\n",
        "print(contents)\n",
        "\n",
        "# close the file\n",
        "file.close()"
      ],
      "metadata": {
        "colab": {
          "base_uri": "https://localhost:8080/"
        },
        "id": "LW7wqM4ao_QO",
        "outputId": "fa34e471-61f6-42bf-ef9b-731a542ebc38"
      },
      "execution_count": 27,
      "outputs": [
        {
          "output_type": "stream",
          "name": "stdout",
          "text": [
            "I want to become a Data Scientist\n"
          ]
        }
      ]
    },
    {
      "cell_type": "markdown",
      "source": [
        "Q4. Explain the following with python code: read(), readline() and readlines()."
      ],
      "metadata": {
        "id": "ilKkL7rQqnEo"
      }
    },
    {
      "cell_type": "markdown",
      "source": [
        "Answer:-\n",
        "\n",
        "1.The read() method returns the specified number of bytes from the file. Default is -1 which means the whole file."
      ],
      "metadata": {
        "id": "8ZveludXqnjY"
      }
    },
    {
      "cell_type": "code",
      "source": [
        "file = open('/content/my name.txt','r')\n",
        "print(file.read())\n",
        "file.close()"
      ],
      "metadata": {
        "colab": {
          "base_uri": "https://localhost:8080/"
        },
        "id": "Af1CVgZBqWke",
        "outputId": "cf0f4221-2dca-4d8a-f780-b3e67c79be26"
      },
      "execution_count": 28,
      "outputs": [
        {
          "output_type": "stream",
          "name": "stdout",
          "text": [
            "This is w+ mode\n",
            "This is a+ mode\n",
            "\n"
          ]
        }
      ]
    },
    {
      "cell_type": "code",
      "source": [
        "file = open('/content/my name.txt','r')\n",
        "print(file.read(4))\n",
        "file.close()"
      ],
      "metadata": {
        "colab": {
          "base_uri": "https://localhost:8080/"
        },
        "id": "HWQCna8jq29q",
        "outputId": "189e6875-edf5-433e-9768-7efbb7bac28a"
      },
      "execution_count": 29,
      "outputs": [
        {
          "output_type": "stream",
          "name": "stdout",
          "text": [
            "This\n"
          ]
        }
      ]
    },
    {
      "cell_type": "markdown",
      "source": [
        "2.The readline() method returns one line from the file. You can also specified how many bytes from the line to return, by using the size parameter."
      ],
      "metadata": {
        "id": "HAcJIYcUrHxI"
      }
    },
    {
      "cell_type": "code",
      "source": [
        "file = open('/content/my name.txt','r')\n",
        "print(file.readline())\n",
        "file.close()"
      ],
      "metadata": {
        "colab": {
          "base_uri": "https://localhost:8080/"
        },
        "id": "pSVc0JqmrEKF",
        "outputId": "68642807-22d6-469f-88da-e7ca133580f7"
      },
      "execution_count": 30,
      "outputs": [
        {
          "output_type": "stream",
          "name": "stdout",
          "text": [
            "This is w+ mode\n",
            "\n"
          ]
        }
      ]
    },
    {
      "cell_type": "markdown",
      "source": [
        "3.The readlines() method returns a list containing each line in the file as a list item."
      ],
      "metadata": {
        "id": "kKasp540rQF0"
      }
    },
    {
      "cell_type": "code",
      "source": [
        "file = open('/content/my name.txt','r')\n",
        "print(file.readlines())\n",
        "file.close()"
      ],
      "metadata": {
        "colab": {
          "base_uri": "https://localhost:8080/"
        },
        "id": "aAvYNSCrrNxF",
        "outputId": "a649f8cc-5066-4553-c58a-e7d6b795647b"
      },
      "execution_count": 31,
      "outputs": [
        {
          "output_type": "stream",
          "name": "stdout",
          "text": [
            "['This is w+ mode\\n', 'This is a+ mode\\n']\n"
          ]
        }
      ]
    },
    {
      "cell_type": "markdown",
      "source": [
        "Q5. Explain why with statement is used with open(). What is the advantage of using with statement and\n",
        "open() together?"
      ],
      "metadata": {
        "id": "wKMd5hlRtXqe"
      }
    },
    {
      "cell_type": "markdown",
      "source": [
        "Answer:-\n",
        "\n",
        "In Python, with statement is used in exception handling to make the code cleaner and much more readable. It simplifies the management of common resources like file streams.\n",
        "\n",
        "Advantage is : unlike the previous implementations, there is no need to call file.close()\n",
        "\n",
        "It is guaranteed to close the file no matter how the nested block exits. If an exception occurs before the end of the block, it will close the file before the exception is caught by an outer exception handler."
      ],
      "metadata": {
        "id": "5him12tAtZuo"
      }
    },
    {
      "cell_type": "code",
      "source": [
        "# using with statement\n",
        "with open('My_file.txt', 'w') as file:\n",
        "\tfile.write('This is file created using with statement')"
      ],
      "metadata": {
        "id": "mXbGegUarXOy"
      },
      "execution_count": 35,
      "outputs": []
    },
    {
      "cell_type": "code",
      "source": [
        "# Using the above file using with statement and reading the file\n",
        "with open('My_file.txt','r') as file:\n",
        "    print(file.read())"
      ],
      "metadata": {
        "colab": {
          "base_uri": "https://localhost:8080/"
        },
        "id": "4p8CTrNetv7u",
        "outputId": "1a2ad149-2465-4ce7-8236-c17c47081040"
      },
      "execution_count": 36,
      "outputs": [
        {
          "output_type": "stream",
          "name": "stdout",
          "text": [
            "This is file created using with statement\n"
          ]
        }
      ]
    },
    {
      "cell_type": "markdown",
      "source": [
        "Q6. Explain the write() and writelines() functions. Give a suitable example."
      ],
      "metadata": {
        "id": "X97BLI0LuJ4G"
      }
    },
    {
      "cell_type": "markdown",
      "source": [
        "Answer:-\n",
        "\n",
        "1.The write() function will write the content in the file without adding any extra characters.\n",
        "While writing data to a file, we must know that the write function does not add a newline character(\\n) to the end of the string.\n",
        "The write() function returns None."
      ],
      "metadata": {
        "id": "EVdYQFm2uKcy"
      }
    },
    {
      "cell_type": "code",
      "source": [
        "student_file = open(\"students_name.txt\", \"w\")\n",
        "\n",
        "student_name = ['Ashish','Shiv','Harihar']\n",
        "\n",
        "for i in student_name:\n",
        "    student_file.write(f'Name of student : {i}')\n",
        "    student_file.write(\"\\n\")\n",
        "\n",
        "student_file.close()"
      ],
      "metadata": {
        "id": "65JbH1jSt-Je"
      },
      "execution_count": 38,
      "outputs": []
    },
    {
      "cell_type": "code",
      "source": [
        "with open('students_name.txt','r') as file:\n",
        "    print(file.read())"
      ],
      "metadata": {
        "colab": {
          "base_uri": "https://localhost:8080/"
        },
        "id": "7yI0rtcouY6S",
        "outputId": "bf999ed9-d8e7-43ce-e56d-4de4bd4a8834"
      },
      "execution_count": 40,
      "outputs": [
        {
          "output_type": "stream",
          "name": "stdout",
          "text": [
            "Name of student : Ashish\n",
            "Name of student : Shiv\n",
            "Name of student : Harihar\n",
            "\n"
          ]
        }
      ]
    },
    {
      "cell_type": "markdown",
      "source": [
        "2.writelines(): This function writes the content of a list to a file.\n",
        "the list of strings that is passed to the writelines() function is written into the opened file.\n",
        "\n",
        "Similar to the write() function, the writelines() function does not add a newline character(\\n) to the end of the string\n"
      ],
      "metadata": {
        "id": "qbzVCCHPur0P"
      }
    },
    {
      "cell_type": "code",
      "source": [
        "student_name2 = ['shyam','Shada','Shiv']\n",
        "# Adding \\n character to each element in list\n",
        "lst = []\n",
        "for i in student_name2:\n",
        "    lst.append(i+'\\n')\n",
        "# Writing with writelines\n",
        "with open('student_name2.txt','w') as file2:\n",
        "    file2.writelines(lst)"
      ],
      "metadata": {
        "id": "UX3FDOV2uiZT"
      },
      "execution_count": 41,
      "outputs": []
    },
    {
      "cell_type": "code",
      "source": [
        "with open('student_name2.txt','r') as file2:\n",
        "    print(file2.read())"
      ],
      "metadata": {
        "colab": {
          "base_uri": "https://localhost:8080/"
        },
        "id": "aXQ-92D7u8ov",
        "outputId": "2a9a5d48-75b4-4684-eb48-689550695941"
      },
      "execution_count": 42,
      "outputs": [
        {
          "output_type": "stream",
          "name": "stdout",
          "text": [
            "shyam\n",
            "Shada\n",
            "Shiv\n",
            "\n"
          ]
        }
      ]
    },
    {
      "cell_type": "code",
      "source": [],
      "metadata": {
        "id": "dVNMrUOtvM8C"
      },
      "execution_count": null,
      "outputs": []
    }
  ]
}